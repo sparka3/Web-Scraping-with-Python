{
 "cells": [
  {
   "cell_type": "code",
   "execution_count": 5,
   "metadata": {},
   "outputs": [],
   "source": [
    "import requests\n",
    "page = requests.get(\"http://forecast.weather.gov/MapClick.php?lat=37.7772&lon=-122.4168\")"
   ]
  },
  {
   "cell_type": "code",
   "execution_count": 6,
   "metadata": {},
   "outputs": [],
   "source": [
    "from bs4 import BeautifulSoup\n",
    "soup = BeautifulSoup(page.content,'html.parser')"
   ]
  },
  {
   "cell_type": "code",
   "execution_count": 46,
   "metadata": {},
   "outputs": [],
   "source": [
    "forecast_items=soup.findAll(\"div\",{\"class\":\"tombstone-container\"})"
   ]
  },
  {
   "cell_type": "code",
   "execution_count": 35,
   "metadata": {},
   "outputs": [],
   "source": [
    "periods=[]\n",
    "skiesarr=[]\n",
    "temparr=[]\n",
    "desc=[]\n",
    "for items in forecast_items:\n",
    "\n",
    "    period_name = items.find(\"p\",{\"class\":\"period-name\"})\n",
    "    periods.append(period_name.text)\n",
    "    skies = items.find(\"p\",{\"class\":\"short-desc\"})\n",
    "    skiesarr.append(skies.text)\n",
    "    temp = items.find(\"p\",{\"class\":\"temp\"})\n",
    "    temparr.append(temp.text)\n",
    "    description = items.find(\"img\")\n",
    "    desc.append(description[\"title\"])"
   ]
  },
  {
   "cell_type": "code",
   "execution_count": 39,
   "metadata": {},
   "outputs": [],
   "source": [
    "#combining data to dataframes\n",
    "import pandas as pd\n",
    "weather = pd.DataFrame({\n",
    "    \"Period\" : periods,\n",
    "    \"Skies\" : skiesarr,\n",
    "    \"Temp\" : temparr,\n",
    "    \"Description\" : desc\n",
    "})"
   ]
  },
  {
   "cell_type": "code",
   "execution_count": 43,
   "metadata": {},
   "outputs": [],
   "source": [
    "weather[\"temp_num\"]=weather.Description.str.extract('(\\d+)').astype('int')"
   ]
  },
  {
   "cell_type": "code",
   "execution_count": 44,
   "metadata": {},
   "outputs": [
    {
     "data": {
      "text/html": [
       "<div>\n",
       "<style scoped>\n",
       "    .dataframe tbody tr th:only-of-type {\n",
       "        vertical-align: middle;\n",
       "    }\n",
       "\n",
       "    .dataframe tbody tr th {\n",
       "        vertical-align: top;\n",
       "    }\n",
       "\n",
       "    .dataframe thead th {\n",
       "        text-align: right;\n",
       "    }\n",
       "</style>\n",
       "<table border=\"1\" class=\"dataframe\">\n",
       "  <thead>\n",
       "    <tr style=\"text-align: right;\">\n",
       "      <th></th>\n",
       "      <th>Period</th>\n",
       "      <th>Skies</th>\n",
       "      <th>Temp</th>\n",
       "      <th>Description</th>\n",
       "      <th>temp_num</th>\n",
       "    </tr>\n",
       "  </thead>\n",
       "  <tbody>\n",
       "    <tr>\n",
       "      <th>0</th>\n",
       "      <td>Tonight</td>\n",
       "      <td>Mostly Clear</td>\n",
       "      <td>Low: 52 °F</td>\n",
       "      <td>Tonight: Mostly clear, with a low around 52. W...</td>\n",
       "      <td>52</td>\n",
       "    </tr>\n",
       "    <tr>\n",
       "      <th>1</th>\n",
       "      <td>Friday</td>\n",
       "      <td>Sunny</td>\n",
       "      <td>High: 71 °F</td>\n",
       "      <td>Friday: Sunny, with a high near 71. North nort...</td>\n",
       "      <td>71</td>\n",
       "    </tr>\n",
       "    <tr>\n",
       "      <th>2</th>\n",
       "      <td>FridayNight</td>\n",
       "      <td>Clear</td>\n",
       "      <td>Low: 54 °F</td>\n",
       "      <td>Friday Night: Clear, with a low around 54. Wes...</td>\n",
       "      <td>54</td>\n",
       "    </tr>\n",
       "    <tr>\n",
       "      <th>3</th>\n",
       "      <td>Saturday</td>\n",
       "      <td>Sunny</td>\n",
       "      <td>High: 76 °F</td>\n",
       "      <td>Saturday: Sunny, with a high near 76. Calm win...</td>\n",
       "      <td>76</td>\n",
       "    </tr>\n",
       "    <tr>\n",
       "      <th>4</th>\n",
       "      <td>SaturdayNight</td>\n",
       "      <td>Mostly Clear</td>\n",
       "      <td>Low: 57 °F</td>\n",
       "      <td>Saturday Night: Mostly clear, with a low aroun...</td>\n",
       "      <td>57</td>\n",
       "    </tr>\n",
       "    <tr>\n",
       "      <th>5</th>\n",
       "      <td>Sunday</td>\n",
       "      <td>Sunny</td>\n",
       "      <td>High: 81 °F</td>\n",
       "      <td>Sunday: Sunny, with a high near 81.</td>\n",
       "      <td>81</td>\n",
       "    </tr>\n",
       "    <tr>\n",
       "      <th>6</th>\n",
       "      <td>SundayNight</td>\n",
       "      <td>Clear</td>\n",
       "      <td>Low: 58 °F</td>\n",
       "      <td>Sunday Night: Clear, with a low around 58.</td>\n",
       "      <td>58</td>\n",
       "    </tr>\n",
       "    <tr>\n",
       "      <th>7</th>\n",
       "      <td>Monday</td>\n",
       "      <td>Sunny</td>\n",
       "      <td>High: 78 °F</td>\n",
       "      <td>Monday: Sunny, with a high near 78.</td>\n",
       "      <td>78</td>\n",
       "    </tr>\n",
       "    <tr>\n",
       "      <th>8</th>\n",
       "      <td>MondayNight</td>\n",
       "      <td>Mostly Clear</td>\n",
       "      <td>Low: 56 °F</td>\n",
       "      <td>Monday Night: Mostly clear, with a low around 56.</td>\n",
       "      <td>56</td>\n",
       "    </tr>\n",
       "  </tbody>\n",
       "</table>\n",
       "</div>"
      ],
      "text/plain": [
       "          Period         Skies         Temp  \\\n",
       "0        Tonight  Mostly Clear   Low: 52 °F   \n",
       "1         Friday         Sunny  High: 71 °F   \n",
       "2    FridayNight         Clear   Low: 54 °F   \n",
       "3       Saturday         Sunny  High: 76 °F   \n",
       "4  SaturdayNight  Mostly Clear   Low: 57 °F   \n",
       "5         Sunday         Sunny  High: 81 °F   \n",
       "6    SundayNight         Clear   Low: 58 °F   \n",
       "7         Monday         Sunny  High: 78 °F   \n",
       "8    MondayNight  Mostly Clear   Low: 56 °F   \n",
       "\n",
       "                                         Description  temp_num  \n",
       "0  Tonight: Mostly clear, with a low around 52. W...        52  \n",
       "1  Friday: Sunny, with a high near 71. North nort...        71  \n",
       "2  Friday Night: Clear, with a low around 54. Wes...        54  \n",
       "3  Saturday: Sunny, with a high near 76. Calm win...        76  \n",
       "4  Saturday Night: Mostly clear, with a low aroun...        57  \n",
       "5                Sunday: Sunny, with a high near 81.        81  \n",
       "6         Sunday Night: Clear, with a low around 58.        58  \n",
       "7                Monday: Sunny, with a high near 78.        78  \n",
       "8  Monday Night: Mostly clear, with a low around 56.        56  "
      ]
     },
     "execution_count": 44,
     "metadata": {},
     "output_type": "execute_result"
    }
   ],
   "source": [
    "weather"
   ]
  },
  {
   "cell_type": "code",
   "execution_count": 45,
   "metadata": {},
   "outputs": [],
   "source": [
    "weather.to_csv('file1.csv')"
   ]
  },
  {
   "cell_type": "code",
   "execution_count": null,
   "metadata": {},
   "outputs": [],
   "source": []
  }
 ],
 "metadata": {
  "kernelspec": {
   "display_name": "Python 3",
   "language": "python",
   "name": "python3"
  },
  "language_info": {
   "codemirror_mode": {
    "name": "ipython",
    "version": 3
   },
   "file_extension": ".py",
   "mimetype": "text/x-python",
   "name": "python",
   "nbconvert_exporter": "python",
   "pygments_lexer": "ipython3",
   "version": "3.7.1"
  }
 },
 "nbformat": 4,
 "nbformat_minor": 2
}
